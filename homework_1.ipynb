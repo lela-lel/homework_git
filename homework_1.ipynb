{
  "nbformat": 4,
  "nbformat_minor": 0,
  "metadata": {
    "colab": {
      "provenance": []
    },
    "kernelspec": {
      "name": "python3",
      "display_name": "Python 3"
    },
    "language_info": {
      "name": "python"
    }
  },
  "cells": [
    {
      "cell_type": "markdown",
      "source": [
        "# Polars"
      ],
      "metadata": {
        "id": "3vnLIrggD8FW"
      }
    },
    {
      "cell_type": "markdown",
      "source": [
        "Импорты"
      ],
      "metadata": {
        "id": "ccqk8Psz9n3a"
      }
    },
    {
      "cell_type": "code",
      "source": [
        "import polars as pl"
      ],
      "metadata": {
        "id": "wH0en7Iwny6I"
      },
      "execution_count": 2,
      "outputs": []
    },
    {
      "cell_type": "markdown",
      "source": [
        "Считывание датасета из файла"
      ],
      "metadata": {
        "id": "c6HzGFeC94IG"
      }
    },
    {
      "cell_type": "code",
      "source": [
        "data = pl.read_csv(\"train.csv\")"
      ],
      "metadata": {
        "id": "qkMO7RSY9QGk"
      },
      "execution_count": 3,
      "outputs": []
    },
    {
      "cell_type": "markdown",
      "source": [
        "Основная информация о датасете\n",
        "информацию о типах данных, число пропусков, средние значения и т.д"
      ],
      "metadata": {
        "id": "NaCwqBRj9hJH"
      }
    },
    {
      "cell_type": "code",
      "source": [
        "print(data.describe()) # статистикa по каждому столбцу\n",
        "print(data.dtypes)      # типы данных каждого столбца\n",
        "print(data.shape)        # количество строк и столбцов\n",
        "print(data.null_count()) # количество пропущенных значений в каждом столбце\n",
        "print(data.mean())      # cреднее значение для числовых столбцов\n",
        "print(data.median())    # медиана для числовых столбцов\n",
        "print(data.min())\n",
        "print(data.max())"
      ],
      "metadata": {
        "colab": {
          "base_uri": "https://localhost:8080/"
        },
        "id": "1yv3-Y-B9av3",
        "outputId": "e750c081-8eaf-405d-976b-a1ccfbc8577d"
      },
      "execution_count": 4,
      "outputs": [
        {
          "output_type": "stream",
          "name": "stdout",
          "text": [
            "shape: (9, 13)\n",
            "┌────────────┬─────────────┬──────────┬──────────┬───┬───────────┬───────────┬───────┬──────────┐\n",
            "│ statistic  ┆ PassengerId ┆ Survived ┆ Pclass   ┆ … ┆ Ticket    ┆ Fare      ┆ Cabin ┆ Embarked │\n",
            "│ ---        ┆ ---         ┆ ---      ┆ ---      ┆   ┆ ---       ┆ ---       ┆ ---   ┆ ---      │\n",
            "│ str        ┆ f64         ┆ f64      ┆ f64      ┆   ┆ str       ┆ f64       ┆ str   ┆ str      │\n",
            "╞════════════╪═════════════╪══════════╪══════════╪═══╪═══════════╪═══════════╪═══════╪══════════╡\n",
            "│ count      ┆ 891.0       ┆ 891.0    ┆ 891.0    ┆ … ┆ 891       ┆ 891.0     ┆ 204   ┆ 889      │\n",
            "│ null_count ┆ 0.0         ┆ 0.0      ┆ 0.0      ┆ … ┆ 0         ┆ 0.0       ┆ 687   ┆ 2        │\n",
            "│ mean       ┆ 446.0       ┆ 0.383838 ┆ 2.308642 ┆ … ┆ null      ┆ 32.204208 ┆ null  ┆ null     │\n",
            "│ std        ┆ 257.353842  ┆ 0.486592 ┆ 0.836071 ┆ … ┆ null      ┆ 49.693429 ┆ null  ┆ null     │\n",
            "│ min        ┆ 1.0         ┆ 0.0      ┆ 1.0      ┆ … ┆ 110152    ┆ 0.0       ┆ A10   ┆ C        │\n",
            "│ 25%        ┆ 224.0       ┆ 0.0      ┆ 2.0      ┆ … ┆ null      ┆ 7.925     ┆ null  ┆ null     │\n",
            "│ 50%        ┆ 446.0       ┆ 0.0      ┆ 3.0      ┆ … ┆ null      ┆ 14.4542   ┆ null  ┆ null     │\n",
            "│ 75%        ┆ 669.0       ┆ 1.0      ┆ 3.0      ┆ … ┆ null      ┆ 31.0      ┆ null  ┆ null     │\n",
            "│ max        ┆ 891.0       ┆ 1.0      ┆ 3.0      ┆ … ┆ WE/P 5735 ┆ 512.3292  ┆ T     ┆ S        │\n",
            "└────────────┴─────────────┴──────────┴──────────┴───┴───────────┴───────────┴───────┴──────────┘\n",
            "[Int64, Int64, Int64, String, String, Float64, Int64, Int64, String, Float64, String, String]\n",
            "(891, 12)\n",
            "shape: (1, 12)\n",
            "┌─────────────┬──────────┬────────┬──────┬───┬────────┬──────┬───────┬──────────┐\n",
            "│ PassengerId ┆ Survived ┆ Pclass ┆ Name ┆ … ┆ Ticket ┆ Fare ┆ Cabin ┆ Embarked │\n",
            "│ ---         ┆ ---      ┆ ---    ┆ ---  ┆   ┆ ---    ┆ ---  ┆ ---   ┆ ---      │\n",
            "│ u32         ┆ u32      ┆ u32    ┆ u32  ┆   ┆ u32    ┆ u32  ┆ u32   ┆ u32      │\n",
            "╞═════════════╪══════════╪════════╪══════╪═══╪════════╪══════╪═══════╪══════════╡\n",
            "│ 0           ┆ 0        ┆ 0      ┆ 0    ┆ … ┆ 0      ┆ 0    ┆ 687   ┆ 2        │\n",
            "└─────────────┴──────────┴────────┴──────┴───┴────────┴──────┴───────┴──────────┘\n",
            "shape: (1, 12)\n",
            "┌─────────────┬──────────┬──────────┬──────┬───┬────────┬───────────┬───────┬──────────┐\n",
            "│ PassengerId ┆ Survived ┆ Pclass   ┆ Name ┆ … ┆ Ticket ┆ Fare      ┆ Cabin ┆ Embarked │\n",
            "│ ---         ┆ ---      ┆ ---      ┆ ---  ┆   ┆ ---    ┆ ---       ┆ ---   ┆ ---      │\n",
            "│ f64         ┆ f64      ┆ f64      ┆ str  ┆   ┆ str    ┆ f64       ┆ str   ┆ str      │\n",
            "╞═════════════╪══════════╪══════════╪══════╪═══╪════════╪═══════════╪═══════╪══════════╡\n",
            "│ 446.0       ┆ 0.383838 ┆ 2.308642 ┆ null ┆ … ┆ null   ┆ 32.204208 ┆ null  ┆ null     │\n",
            "└─────────────┴──────────┴──────────┴──────┴───┴────────┴───────────┴───────┴──────────┘\n",
            "shape: (1, 12)\n",
            "┌─────────────┬──────────┬────────┬──────┬───┬────────┬─────────┬───────┬──────────┐\n",
            "│ PassengerId ┆ Survived ┆ Pclass ┆ Name ┆ … ┆ Ticket ┆ Fare    ┆ Cabin ┆ Embarked │\n",
            "│ ---         ┆ ---      ┆ ---    ┆ ---  ┆   ┆ ---    ┆ ---     ┆ ---   ┆ ---      │\n",
            "│ f64         ┆ f64      ┆ f64    ┆ str  ┆   ┆ str    ┆ f64     ┆ str   ┆ str      │\n",
            "╞═════════════╪══════════╪════════╪══════╪═══╪════════╪═════════╪═══════╪══════════╡\n",
            "│ 446.0       ┆ 0.0      ┆ 3.0    ┆ null ┆ … ┆ null   ┆ 14.4542 ┆ null  ┆ null     │\n",
            "└─────────────┴──────────┴────────┴──────┴───┴────────┴─────────┴───────┴──────────┘\n",
            "shape: (1, 12)\n",
            "┌─────────────┬──────────┬────────┬─────────────────────┬───┬────────┬──────┬───────┬──────────┐\n",
            "│ PassengerId ┆ Survived ┆ Pclass ┆ Name                ┆ … ┆ Ticket ┆ Fare ┆ Cabin ┆ Embarked │\n",
            "│ ---         ┆ ---      ┆ ---    ┆ ---                 ┆   ┆ ---    ┆ ---  ┆ ---   ┆ ---      │\n",
            "│ i64         ┆ i64      ┆ i64    ┆ str                 ┆   ┆ str    ┆ f64  ┆ str   ┆ str      │\n",
            "╞═════════════╪══════════╪════════╪═════════════════════╪═══╪════════╪══════╪═══════╪══════════╡\n",
            "│ 1           ┆ 0        ┆ 1      ┆ Abbing, Mr. Anthony ┆ … ┆ 110152 ┆ 0.0  ┆ A10   ┆ C        │\n",
            "└─────────────┴──────────┴────────┴─────────────────────┴───┴────────┴──────┴───────┴──────────┘\n",
            "shape: (1, 12)\n",
            "┌─────────────┬──────────┬────────┬──────────────────┬───┬───────────┬──────────┬───────┬──────────┐\n",
            "│ PassengerId ┆ Survived ┆ Pclass ┆ Name             ┆ … ┆ Ticket    ┆ Fare     ┆ Cabin ┆ Embarked │\n",
            "│ ---         ┆ ---      ┆ ---    ┆ ---              ┆   ┆ ---       ┆ ---      ┆ ---   ┆ ---      │\n",
            "│ i64         ┆ i64      ┆ i64    ┆ str              ┆   ┆ str       ┆ f64      ┆ str   ┆ str      │\n",
            "╞═════════════╪══════════╪════════╪══════════════════╪═══╪═══════════╪══════════╪═══════╪══════════╡\n",
            "│ 891         ┆ 1        ┆ 3      ┆ van Melkebeke,   ┆ … ┆ WE/P 5735 ┆ 512.3292 ┆ T     ┆ S        │\n",
            "│             ┆          ┆        ┆ Mr. Philemon     ┆   ┆           ┆          ┆       ┆          │\n",
            "└─────────────┴──────────┴────────┴──────────────────┴───┴───────────┴──────────┴───────┴──────────┘\n"
          ]
        }
      ]
    },
    {
      "cell_type": "code",
      "source": [
        "print(data.head())\n",
        "print(data.tail())     # первые и последние 5 строк"
      ],
      "metadata": {
        "colab": {
          "base_uri": "https://localhost:8080/"
        },
        "id": "Fum0RX6T-sOl",
        "outputId": "54f98435-ba2d-4266-9299-83d765da90f9"
      },
      "execution_count": 5,
      "outputs": [
        {
          "output_type": "stream",
          "name": "stdout",
          "text": [
            "shape: (5, 12)\n",
            "┌─────────────┬──────────┬────────┬───────────────────┬───┬───────────┬─────────┬───────┬──────────┐\n",
            "│ PassengerId ┆ Survived ┆ Pclass ┆ Name              ┆ … ┆ Ticket    ┆ Fare    ┆ Cabin ┆ Embarked │\n",
            "│ ---         ┆ ---      ┆ ---    ┆ ---               ┆   ┆ ---       ┆ ---     ┆ ---   ┆ ---      │\n",
            "│ i64         ┆ i64      ┆ i64    ┆ str               ┆   ┆ str       ┆ f64     ┆ str   ┆ str      │\n",
            "╞═════════════╪══════════╪════════╪═══════════════════╪═══╪═══════════╪═════════╪═══════╪══════════╡\n",
            "│ 1           ┆ 0        ┆ 3      ┆ Braund, Mr. Owen  ┆ … ┆ A/5 21171 ┆ 7.25    ┆ null  ┆ S        │\n",
            "│             ┆          ┆        ┆ Harris            ┆   ┆           ┆         ┆       ┆          │\n",
            "│ 2           ┆ 1        ┆ 1      ┆ Cumings, Mrs.     ┆ … ┆ PC 17599  ┆ 71.2833 ┆ C85   ┆ C        │\n",
            "│             ┆          ┆        ┆ John Bradley (Fl… ┆   ┆           ┆         ┆       ┆          │\n",
            "│ 3           ┆ 1        ┆ 3      ┆ Heikkinen, Miss.  ┆ … ┆ STON/O2.  ┆ 7.925   ┆ null  ┆ S        │\n",
            "│             ┆          ┆        ┆ Laina             ┆   ┆ 3101282   ┆         ┆       ┆          │\n",
            "│ 4           ┆ 1        ┆ 1      ┆ Futrelle, Mrs.    ┆ … ┆ 113803    ┆ 53.1    ┆ C123  ┆ S        │\n",
            "│             ┆          ┆        ┆ Jacques Heath (…  ┆   ┆           ┆         ┆       ┆          │\n",
            "│ 5           ┆ 0        ┆ 3      ┆ Allen, Mr.        ┆ … ┆ 373450    ┆ 8.05    ┆ null  ┆ S        │\n",
            "│             ┆          ┆        ┆ William Henry     ┆   ┆           ┆         ┆       ┆          │\n",
            "└─────────────┴──────────┴────────┴───────────────────┴───┴───────────┴─────────┴───────┴──────────┘\n",
            "shape: (5, 12)\n",
            "┌─────────────┬──────────┬────────┬─────────────────┬───┬────────────┬───────┬───────┬──────────┐\n",
            "│ PassengerId ┆ Survived ┆ Pclass ┆ Name            ┆ … ┆ Ticket     ┆ Fare  ┆ Cabin ┆ Embarked │\n",
            "│ ---         ┆ ---      ┆ ---    ┆ ---             ┆   ┆ ---        ┆ ---   ┆ ---   ┆ ---      │\n",
            "│ i64         ┆ i64      ┆ i64    ┆ str             ┆   ┆ str        ┆ f64   ┆ str   ┆ str      │\n",
            "╞═════════════╪══════════╪════════╪═════════════════╪═══╪════════════╪═══════╪═══════╪══════════╡\n",
            "│ 887         ┆ 0        ┆ 2      ┆ Montvila, Rev.  ┆ … ┆ 211536     ┆ 13.0  ┆ null  ┆ S        │\n",
            "│             ┆          ┆        ┆ Juozas          ┆   ┆            ┆       ┆       ┆          │\n",
            "│ 888         ┆ 1        ┆ 1      ┆ Graham, Miss.   ┆ … ┆ 112053     ┆ 30.0  ┆ B42   ┆ S        │\n",
            "│             ┆          ┆        ┆ Margaret Edith  ┆   ┆            ┆       ┆       ┆          │\n",
            "│ 889         ┆ 0        ┆ 3      ┆ Johnston, Miss. ┆ … ┆ W./C. 6607 ┆ 23.45 ┆ null  ┆ S        │\n",
            "│             ┆          ┆        ┆ Catherine Hele… ┆   ┆            ┆       ┆       ┆          │\n",
            "│ 890         ┆ 1        ┆ 1      ┆ Behr, Mr. Karl  ┆ … ┆ 111369     ┆ 30.0  ┆ C148  ┆ C        │\n",
            "│             ┆          ┆        ┆ Howell          ┆   ┆            ┆       ┆       ┆          │\n",
            "│ 891         ┆ 0        ┆ 3      ┆ Dooley, Mr.     ┆ … ┆ 370376     ┆ 7.75  ┆ null  ┆ Q        │\n",
            "│             ┆          ┆        ┆ Patrick         ┆   ┆            ┆       ┆       ┆          │\n",
            "└─────────────┴──────────┴────────┴─────────────────┴───┴────────────┴───────┴───────┴──────────┘\n"
          ]
        }
      ]
    },
    {
      "cell_type": "markdown",
      "source": [
        "Подсчет количества пассажиров каждого класса (Pclass)"
      ],
      "metadata": {
        "id": "_F2KfI5I_cyA"
      }
    },
    {
      "cell_type": "code",
      "source": [
        "print(data.group_by(\"Pclass\").count())"
      ],
      "metadata": {
        "colab": {
          "base_uri": "https://localhost:8080/"
        },
        "id": "hfmRhvbE_Xum",
        "outputId": "f8a91edb-a6bf-4595-faf6-435886389d46"
      },
      "execution_count": 8,
      "outputs": [
        {
          "output_type": "stream",
          "name": "stdout",
          "text": [
            "shape: (3, 2)\n",
            "┌────────┬───────┐\n",
            "│ Pclass ┆ count │\n",
            "│ ---    ┆ ---   │\n",
            "│ i64    ┆ u32   │\n",
            "╞════════╪═══════╡\n",
            "│ 1      ┆ 216   │\n",
            "│ 3      ┆ 491   │\n",
            "│ 2      ┆ 184   │\n",
            "└────────┴───────┘\n"
          ]
        },
        {
          "output_type": "stream",
          "name": "stderr",
          "text": [
            "<ipython-input-8-82c474f5cf31>:1: DeprecationWarning: `GroupBy.count` is deprecated. It has been renamed to `len`.\n",
            "  print(data.group_by(\"Pclass\").count())\n"
          ]
        }
      ]
    },
    {
      "cell_type": "markdown",
      "source": [
        "Количество выживших мужчин и женщин"
      ],
      "metadata": {
        "id": "0dgvHgc0Bsdb"
      }
    },
    {
      "cell_type": "code",
      "source": [
        "print(data.filter((pl.col(\"Sex\") == \"male\") & (pl.col(\"Survived\") == 1)).count())\n",
        "print(data.filter((pl.col(\"Sex\") == \"female\") & (pl.col(\"Survived\") == 1)).count())"
      ],
      "metadata": {
        "colab": {
          "base_uri": "https://localhost:8080/"
        },
        "id": "iqvqPRPqAIrp",
        "outputId": "93fa6eaa-22d2-451e-98fb-3ad35ed14a92"
      },
      "execution_count": 18,
      "outputs": [
        {
          "output_type": "stream",
          "name": "stdout",
          "text": [
            "shape: (1, 12)\n",
            "┌─────────────┬──────────┬────────┬──────┬───┬────────┬──────┬───────┬──────────┐\n",
            "│ PassengerId ┆ Survived ┆ Pclass ┆ Name ┆ … ┆ Ticket ┆ Fare ┆ Cabin ┆ Embarked │\n",
            "│ ---         ┆ ---      ┆ ---    ┆ ---  ┆   ┆ ---    ┆ ---  ┆ ---   ┆ ---      │\n",
            "│ u32         ┆ u32      ┆ u32    ┆ u32  ┆   ┆ u32    ┆ u32  ┆ u32   ┆ u32      │\n",
            "╞═════════════╪══════════╪════════╪══════╪═══╪════════╪══════╪═══════╪══════════╡\n",
            "│ 109         ┆ 109      ┆ 109    ┆ 109  ┆ … ┆ 109    ┆ 109  ┆ 45    ┆ 109      │\n",
            "└─────────────┴──────────┴────────┴──────┴───┴────────┴──────┴───────┴──────────┘\n",
            "shape: (1, 12)\n",
            "┌─────────────┬──────────┬────────┬──────┬───┬────────┬──────┬───────┬──────────┐\n",
            "│ PassengerId ┆ Survived ┆ Pclass ┆ Name ┆ … ┆ Ticket ┆ Fare ┆ Cabin ┆ Embarked │\n",
            "│ ---         ┆ ---      ┆ ---    ┆ ---  ┆   ┆ ---    ┆ ---  ┆ ---   ┆ ---      │\n",
            "│ u32         ┆ u32      ┆ u32    ┆ u32  ┆   ┆ u32    ┆ u32  ┆ u32   ┆ u32      │\n",
            "╞═════════════╪══════════╪════════╪══════╪═══╪════════╪══════╪═══════╪══════════╡\n",
            "│ 233         ┆ 233      ┆ 233    ┆ 233  ┆ … ┆ 233    ┆ 233  ┆ 91    ┆ 231      │\n",
            "└─────────────┴──────────┴────────┴──────┴───┴────────┴──────┴───────┴──────────┘\n"
          ]
        }
      ]
    },
    {
      "cell_type": "code",
      "source": [
        "print(data.filter(pl.col(\"Age\") > 44)) # возраст больше 44"
      ],
      "metadata": {
        "colab": {
          "base_uri": "https://localhost:8080/"
        },
        "id": "kwSGPAKEByuT",
        "outputId": "c7661a46-ba6d-4d2c-b72a-86b51b31dae0"
      },
      "execution_count": 14,
      "outputs": [
        {
          "output_type": "stream",
          "name": "stdout",
          "text": [
            "shape: (115, 12)\n",
            "┌─────────────┬──────────┬────────┬──────────────────┬───┬────────────┬─────────┬───────┬──────────┐\n",
            "│ PassengerId ┆ Survived ┆ Pclass ┆ Name             ┆ … ┆ Ticket     ┆ Fare    ┆ Cabin ┆ Embarked │\n",
            "│ ---         ┆ ---      ┆ ---    ┆ ---              ┆   ┆ ---        ┆ ---     ┆ ---   ┆ ---      │\n",
            "│ i64         ┆ i64      ┆ i64    ┆ str              ┆   ┆ str        ┆ f64     ┆ str   ┆ str      │\n",
            "╞═════════════╪══════════╪════════╪══════════════════╪═══╪════════════╪═════════╪═══════╪══════════╡\n",
            "│ 7           ┆ 0        ┆ 1      ┆ McCarthy, Mr.    ┆ … ┆ 17463      ┆ 51.8625 ┆ E46   ┆ S        │\n",
            "│             ┆          ┆        ┆ Timothy J        ┆   ┆            ┆         ┆       ┆          │\n",
            "│ 12          ┆ 1        ┆ 1      ┆ Bonnell, Miss.   ┆ … ┆ 113783     ┆ 26.55   ┆ C103  ┆ S        │\n",
            "│             ┆          ┆        ┆ Elizabeth        ┆   ┆            ┆         ┆       ┆          │\n",
            "│ 16          ┆ 1        ┆ 2      ┆ Hewlett, Mrs.    ┆ … ┆ 248706     ┆ 16.0    ┆ null  ┆ S        │\n",
            "│             ┆          ┆        ┆ (Mary D          ┆   ┆            ┆         ┆       ┆          │\n",
            "│             ┆          ┆        ┆ Kingcome…        ┆   ┆            ┆         ┆       ┆          │\n",
            "│ 34          ┆ 0        ┆ 2      ┆ Wheadon, Mr.     ┆ … ┆ C.A. 24579 ┆ 10.5    ┆ null  ┆ S        │\n",
            "│             ┆          ┆        ┆ Edward H         ┆   ┆            ┆         ┆       ┆          │\n",
            "│ 53          ┆ 1        ┆ 1      ┆ Harper, Mrs.     ┆ … ┆ PC 17572   ┆ 76.7292 ┆ D33   ┆ C        │\n",
            "│             ┆          ┆        ┆ Henry Sleeper    ┆   ┆            ┆         ┆       ┆          │\n",
            "│             ┆          ┆        ┆ (My…             ┆   ┆            ┆         ┆       ┆          │\n",
            "│ …           ┆ …        ┆ …      ┆ …                ┆ … ┆ …          ┆ …       ┆ …     ┆ …        │\n",
            "│ 858         ┆ 1        ┆ 1      ┆ Daly, Mr. Peter  ┆ … ┆ 113055     ┆ 26.55   ┆ E17   ┆ S        │\n",
            "│             ┆          ┆        ┆ Denis            ┆   ┆            ┆         ┆       ┆          │\n",
            "│ 863         ┆ 1        ┆ 1      ┆ Swift, Mrs.      ┆ … ┆ 17466      ┆ 25.9292 ┆ D17   ┆ S        │\n",
            "│             ┆          ┆        ┆ Frederick Joel   ┆   ┆            ┆         ┆       ┆          │\n",
            "│             ┆          ┆        ┆ (Ma…             ┆   ┆            ┆         ┆       ┆          │\n",
            "│ 872         ┆ 1        ┆ 1      ┆ Beckwith, Mrs.   ┆ … ┆ 11751      ┆ 52.5542 ┆ D35   ┆ S        │\n",
            "│             ┆          ┆        ┆ Richard Leonard… ┆   ┆            ┆         ┆       ┆          │\n",
            "│ 874         ┆ 0        ┆ 3      ┆ Vander Cruyssen, ┆ … ┆ 345765     ┆ 9.0     ┆ null  ┆ S        │\n",
            "│             ┆          ┆        ┆ Mr. Victor       ┆   ┆            ┆         ┆       ┆          │\n",
            "│ 880         ┆ 1        ┆ 1      ┆ Potter, Mrs.     ┆ … ┆ 11767      ┆ 83.1583 ┆ C50   ┆ C        │\n",
            "│             ┆          ┆        ┆ Thomas Jr (Lily  ┆   ┆            ┆         ┆       ┆          │\n",
            "│             ┆          ┆        ┆ A…               ┆   ┆            ┆         ┆       ┆          │\n",
            "└─────────────┴──────────┴────────┴──────────────────┴───┴────────────┴─────────┴───────┴──────────┘\n"
          ]
        }
      ]
    },
    {
      "cell_type": "markdown",
      "source": [
        "# Pandas"
      ],
      "metadata": {
        "id": "AsiQv5KODfxF"
      }
    },
    {
      "cell_type": "markdown",
      "source": [
        "Импорты"
      ],
      "metadata": {
        "id": "gjuHGi5sEEDT"
      }
    },
    {
      "cell_type": "code",
      "source": [
        "import pandas as pd"
      ],
      "metadata": {
        "id": "Zcn9vXsiEDZW"
      },
      "execution_count": 25,
      "outputs": []
    },
    {
      "cell_type": "code",
      "source": [
        "!pip install bottleneck"
      ],
      "metadata": {
        "colab": {
          "base_uri": "https://localhost:8080/"
        },
        "id": "ZCzDJva2FMYB",
        "outputId": "6a786c2f-1adc-4a58-9b68-6c9afee5dd20"
      },
      "execution_count": 23,
      "outputs": [
        {
          "output_type": "stream",
          "name": "stdout",
          "text": [
            "Collecting bottleneck\n",
            "  Downloading Bottleneck-1.4.0-cp310-cp310-manylinux_2_5_x86_64.manylinux1_x86_64.manylinux_2_17_x86_64.manylinux2014_x86_64.whl.metadata (7.9 kB)\n",
            "Requirement already satisfied: numpy in /usr/local/lib/python3.10/dist-packages (from bottleneck) (1.26.4)\n",
            "Downloading Bottleneck-1.4.0-cp310-cp310-manylinux_2_5_x86_64.manylinux1_x86_64.manylinux_2_17_x86_64.manylinux2014_x86_64.whl (356 kB)\n",
            "\u001b[2K   \u001b[90m━━━━━━━━━━━━━━━━━━━━━━━━━━━━━━━━━━━━━━━━\u001b[0m \u001b[32m356.2/356.2 kB\u001b[0m \u001b[31m4.8 MB/s\u001b[0m eta \u001b[36m0:00:00\u001b[0m\n",
            "\u001b[?25hInstalling collected packages: bottleneck\n",
            "Successfully installed bottleneck-1.4.0\n"
          ]
        }
      ]
    },
    {
      "cell_type": "code",
      "source": [
        "import bottleneck as bn"
      ],
      "metadata": {
        "id": "GxCW-XszFaYI"
      },
      "execution_count": 24,
      "outputs": []
    },
    {
      "cell_type": "markdown",
      "source": [
        "Подсчет среднего возраста пассажиров и его стандартное отклонение с помощью bottleneck"
      ],
      "metadata": {
        "id": "2V060BdnEQrG"
      }
    },
    {
      "cell_type": "code",
      "source": [
        "data_1 = pd.read_csv(\"train.csv\")"
      ],
      "metadata": {
        "id": "9r_YXj-1Eequ"
      },
      "execution_count": 21,
      "outputs": []
    },
    {
      "cell_type": "code",
      "source": [
        "average_age = bn.nanmean(data_1[\"Age\"])\n",
        "print(average_age)"
      ],
      "metadata": {
        "colab": {
          "base_uri": "https://localhost:8080/"
        },
        "id": "_l22mKXmEIpm",
        "outputId": "68f5dac1-f45e-4a45-a32e-8bbc65beebe9"
      },
      "execution_count": 27,
      "outputs": [
        {
          "output_type": "stream",
          "name": "stdout",
          "text": [
            "29.69911764705882\n"
          ]
        }
      ]
    },
    {
      "cell_type": "code",
      "source": [
        "std_age = bn.nanstd(data_1[\"Age\"])\n",
        "print(std_age)"
      ],
      "metadata": {
        "colab": {
          "base_uri": "https://localhost:8080/"
        },
        "id": "FKKBXvR4F4Jp",
        "outputId": "471c35f7-d628-47ea-ba0f-2c8ce7384d55"
      },
      "execution_count": 29,
      "outputs": [
        {
          "output_type": "stream",
          "name": "stdout",
          "text": [
            "14.516321150817317\n"
          ]
        }
      ]
    },
    {
      "cell_type": "markdown",
      "source": [
        "Умножение столбца Fare на коэффициент в зависимости от класса билета"
      ],
      "metadata": {
        "id": "BqtKIeWBIG9p"
      }
    },
    {
      "cell_type": "code",
      "source": [
        "def new_fare(row): # функцмя для расчета новой цены проезда\n",
        "  if row[\"Pclass\"] in [1, 2]:\n",
        "    return row[\"Fare\"] * 1.3\n",
        "  else:\n",
        "    return row[\"Fare\"] * 1.1"
      ],
      "metadata": {
        "id": "y9owbpeWGB8E"
      },
      "execution_count": 37,
      "outputs": []
    },
    {
      "cell_type": "code",
      "source": [
        "data_1[\"Fare_new\"] = data_1.apply(new_fare, axis=1) # применение функции"
      ],
      "metadata": {
        "id": "UfsUm-stIQz7"
      },
      "execution_count": 38,
      "outputs": []
    },
    {
      "cell_type": "code",
      "source": [
        "print(data_1.head())"
      ],
      "metadata": {
        "colab": {
          "base_uri": "https://localhost:8080/"
        },
        "id": "bWAp34yFJsO5",
        "outputId": "1e9807bb-c6a9-4a41-826a-7576c11c1498"
      },
      "execution_count": 39,
      "outputs": [
        {
          "output_type": "stream",
          "name": "stdout",
          "text": [
            "   PassengerId  Survived  Pclass  \\\n",
            "0            1         0       3   \n",
            "1            2         1       1   \n",
            "2            3         1       3   \n",
            "3            4         1       1   \n",
            "4            5         0       3   \n",
            "\n",
            "                                                Name     Sex   Age  SibSp  \\\n",
            "0                            Braund, Mr. Owen Harris    male  22.0      1   \n",
            "1  Cumings, Mrs. John Bradley (Florence Briggs Th...  female  38.0      1   \n",
            "2                             Heikkinen, Miss. Laina  female  26.0      0   \n",
            "3       Futrelle, Mrs. Jacques Heath (Lily May Peel)  female  35.0      1   \n",
            "4                           Allen, Mr. William Henry    male  35.0      0   \n",
            "\n",
            "   Parch            Ticket     Fare Cabin Embarked  Fare_new  \n",
            "0      0         A/5 21171   7.2500   NaN        S   7.97500  \n",
            "1      0          PC 17599  71.2833   C85        C  92.66829  \n",
            "2      0  STON/O2. 3101282   7.9250   NaN        S   8.71750  \n",
            "3      0            113803  53.1000  C123        S  69.03000  \n",
            "4      0            373450   8.0500   NaN        S   8.85500  \n"
          ]
        }
      ]
    },
    {
      "cell_type": "markdown",
      "source": [
        "# Оптимизация типов pandas"
      ],
      "metadata": {
        "id": "NXoUDLgEKCyS"
      }
    },
    {
      "cell_type": "code",
      "source": [
        "data_2 = pd.read_csv(\"Housing.csv\")"
      ],
      "metadata": {
        "id": "q98AJ7S6K9-7"
      },
      "execution_count": 54,
      "outputs": []
    },
    {
      "cell_type": "code",
      "source": [
        "print(data_2.head())\n",
        "print(data_2.tail())"
      ],
      "metadata": {
        "colab": {
          "base_uri": "https://localhost:8080/"
        },
        "id": "N6wPAwR3Li6s",
        "outputId": "db817266-0113-45c7-d84d-610f97dae76b"
      },
      "execution_count": 55,
      "outputs": [
        {
          "output_type": "stream",
          "name": "stdout",
          "text": [
            "      price  area  bedrooms  bathrooms  stories mainroad guestroom basement  \\\n",
            "0  13300000  7420         4          2        3      yes        no       no   \n",
            "1  12250000  8960         4          4        4      yes        no       no   \n",
            "2  12250000  9960         3          2        2      yes        no      yes   \n",
            "3  12215000  7500         4          2        2      yes        no      yes   \n",
            "4  11410000  7420         4          1        2      yes       yes      yes   \n",
            "\n",
            "  hotwaterheating airconditioning  parking prefarea furnishingstatus  \n",
            "0              no             yes        2      yes        furnished  \n",
            "1              no             yes        3       no        furnished  \n",
            "2              no              no        2      yes   semi-furnished  \n",
            "3              no             yes        3      yes        furnished  \n",
            "4              no             yes        2       no        furnished  \n",
            "       price  area  bedrooms  bathrooms  stories mainroad guestroom basement  \\\n",
            "540  1820000  3000         2          1        1      yes        no      yes   \n",
            "541  1767150  2400         3          1        1       no        no       no   \n",
            "542  1750000  3620         2          1        1      yes        no       no   \n",
            "543  1750000  2910         3          1        1       no        no       no   \n",
            "544  1750000  3850         3          1        2      yes        no       no   \n",
            "\n",
            "    hotwaterheating airconditioning  parking prefarea furnishingstatus  \n",
            "540              no              no        2       no      unfurnished  \n",
            "541              no              no        0       no   semi-furnished  \n",
            "542              no              no        0       no      unfurnished  \n",
            "543              no              no        0       no        furnished  \n",
            "544              no              no        0       no      unfurnished  \n"
          ]
        }
      ]
    },
    {
      "cell_type": "code",
      "source": [
        "data_2.info()"
      ],
      "metadata": {
        "colab": {
          "base_uri": "https://localhost:8080/"
        },
        "id": "ZSvlnvKSLl_Z",
        "outputId": "d337e597-6e63-4399-a3d3-eba7ef6f72fd"
      },
      "execution_count": 56,
      "outputs": [
        {
          "output_type": "stream",
          "name": "stdout",
          "text": [
            "<class 'pandas.core.frame.DataFrame'>\n",
            "RangeIndex: 545 entries, 0 to 544\n",
            "Data columns (total 13 columns):\n",
            " #   Column            Non-Null Count  Dtype \n",
            "---  ------            --------------  ----- \n",
            " 0   price             545 non-null    int64 \n",
            " 1   area              545 non-null    int64 \n",
            " 2   bedrooms          545 non-null    int64 \n",
            " 3   bathrooms         545 non-null    int64 \n",
            " 4   stories           545 non-null    int64 \n",
            " 5   mainroad          545 non-null    object\n",
            " 6   guestroom         545 non-null    object\n",
            " 7   basement          545 non-null    object\n",
            " 8   hotwaterheating   545 non-null    object\n",
            " 9   airconditioning   545 non-null    object\n",
            " 10  parking           545 non-null    int64 \n",
            " 11  prefarea          545 non-null    object\n",
            " 12  furnishingstatus  545 non-null    object\n",
            "dtypes: int64(6), object(7)\n",
            "memory usage: 55.5+ KB\n"
          ]
        }
      ]
    },
    {
      "cell_type": "markdown",
      "source": [
        "Изначальное потребление памяти в Мегабайтах"
      ],
      "metadata": {
        "id": "GbLvAs3FbTpV"
      }
    },
    {
      "cell_type": "code",
      "source": [
        "memory_0 = data_2.memory_usage(deep=True).sum() / 1024**2\n",
        "print(f'Потребление памяти до оптимизации: {memory_0:.2f} MB')"
      ],
      "metadata": {
        "colab": {
          "base_uri": "https://localhost:8080/"
        },
        "id": "ZhGz6_WWLq-N",
        "outputId": "39bd2ee4-0153-4bd5-959f-916735363fdb"
      },
      "execution_count": 57,
      "outputs": [
        {
          "output_type": "stream",
          "name": "stdout",
          "text": [
            "Потребление памяти до оптимизации: 0.25 MB\n"
          ]
        }
      ]
    },
    {
      "cell_type": "code",
      "source": [
        "data_2_optimized = data_2.copy()\n",
        "data_2_optimized['price'] = data_2_optimized['price'].astype('float32')\n",
        "data_2_optimized['area'] = data_2_optimized['area'].astype('float32')"
      ],
      "metadata": {
        "id": "68vgkwdxacvQ"
      },
      "execution_count": 58,
      "outputs": []
    },
    {
      "cell_type": "code",
      "source": [
        "data_2_optimized['mainroad'] = data_2_optimized['mainroad'].astype('category')\n",
        "data_2_optimized['guestroom'] = data_2_optimized['guestroom'].astype('category')\n",
        "data_2_optimized['basement'] = data_2_optimized['basement'].astype('category')\n",
        "data_2_optimized['hotwaterheating'] = data_2_optimized['hotwaterheating'].astype('category')\n",
        "data_2_optimized['airconditioning'] = data_2_optimized['airconditioning'].astype('category')\n",
        "data_2_optimized['prefarea'] = data_2_optimized['prefarea'].astype('category')\n",
        "data_2_optimized['furnishingstatus'] = data_2_optimized['furnishingstatus'].astype('category')"
      ],
      "metadata": {
        "id": "L0Cb5KQ6alkr"
      },
      "execution_count": 59,
      "outputs": []
    },
    {
      "cell_type": "markdown",
      "source": [
        "Потребление памяти после оптимизации"
      ],
      "metadata": {
        "id": "XjwkMjZocf8i"
      }
    },
    {
      "cell_type": "code",
      "source": [
        "data_2_optimized.info()"
      ],
      "metadata": {
        "colab": {
          "base_uri": "https://localhost:8080/"
        },
        "id": "fK2VhTX5b_98",
        "outputId": "27bc65e3-74ae-483f-8891-5ebc7158a098"
      },
      "execution_count": 60,
      "outputs": [
        {
          "output_type": "stream",
          "name": "stdout",
          "text": [
            "<class 'pandas.core.frame.DataFrame'>\n",
            "RangeIndex: 545 entries, 0 to 544\n",
            "Data columns (total 13 columns):\n",
            " #   Column            Non-Null Count  Dtype   \n",
            "---  ------            --------------  -----   \n",
            " 0   price             545 non-null    float32 \n",
            " 1   area              545 non-null    float32 \n",
            " 2   bedrooms          545 non-null    int64   \n",
            " 3   bathrooms         545 non-null    int64   \n",
            " 4   stories           545 non-null    int64   \n",
            " 5   mainroad          545 non-null    category\n",
            " 6   guestroom         545 non-null    category\n",
            " 7   basement          545 non-null    category\n",
            " 8   hotwaterheating   545 non-null    category\n",
            " 9   airconditioning   545 non-null    category\n",
            " 10  parking           545 non-null    int64   \n",
            " 11  prefarea          545 non-null    category\n",
            " 12  furnishingstatus  545 non-null    category\n",
            "dtypes: category(7), float32(2), int64(4)\n",
            "memory usage: 26.0 KB\n"
          ]
        }
      ]
    },
    {
      "cell_type": "code",
      "source": [
        "new_memory = data_2_optimized.memory_usage(deep=True).sum() / 1024**2"
      ],
      "metadata": {
        "id": "xlxNcXqIbf9n"
      },
      "execution_count": 62,
      "outputs": []
    },
    {
      "cell_type": "markdown",
      "source": [
        "Выводы"
      ],
      "metadata": {
        "id": "GtE88gzqcLpj"
      }
    },
    {
      "cell_type": "code",
      "source": [
        "print(f'Потребление памяти до: {memory_0:.2f} MB')\n",
        "print(f'Потребление памяти после: {new_memory:.2f} MB')\n",
        "print(f'Сэкономленная память: {memory_0 - new_memory:.2f} MB')"
      ],
      "metadata": {
        "colab": {
          "base_uri": "https://localhost:8080/"
        },
        "id": "f9kX0SmbcFom",
        "outputId": "bb3653c7-4855-4290-9864-21b0e0d8291d"
      },
      "execution_count": 64,
      "outputs": [
        {
          "output_type": "stream",
          "name": "stdout",
          "text": [
            "Потребление памяти до: 0.25 MB\n",
            "Потребление памяти после: 0.03 MB\n",
            "Сэкономленная память: 0.22 MB\n"
          ]
        }
      ]
    }
  ]
}